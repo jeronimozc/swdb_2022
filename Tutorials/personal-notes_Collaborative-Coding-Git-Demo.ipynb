{
 "cells": [
  {
   "cell_type": "markdown",
   "id": "aa5bb32f-e777-4677-b482-6cc7ee050284",
   "metadata": {},
   "source": [
    "# Demo on Git\n",
    "by Johnatan "
   ]
  },
  {
   "cell_type": "code",
   "execution_count": null,
   "id": "a90c6f5c-6d23-4f16-9e62-fb1efcbd6f59",
   "metadata": {},
   "outputs": [],
   "source": []
  }
 ],
 "metadata": {
  "kernelspec": {
   "display_name": "Python 3 (ipykernel)",
   "language": "python",
   "name": "python3"
  },
  "language_info": {
   "codemirror_mode": {
    "name": "ipython",
    "version": 3
   },
   "file_extension": ".py",
   "mimetype": "text/x-python",
   "name": "python",
   "nbconvert_exporter": "python",
   "pygments_lexer": "ipython3",
   "version": "3.8.10"
  }
 },
 "nbformat": 4,
 "nbformat_minor": 5
}
