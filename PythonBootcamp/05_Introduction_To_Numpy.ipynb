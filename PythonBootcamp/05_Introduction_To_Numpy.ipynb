{
 "cells": [
  {
   "cell_type": "markdown",
   "metadata": {},
   "source": [
    "<img src=\"../resources/cropped-SummerWorkshop_Header.png\">  \n",
    "\n",
    "<h1 align=\"center\">Python Bootcamp</h1> \n",
    "<h3 align=\"center\">August 20, 2022</h3> "
   ]
  },
  {
   "cell_type": "markdown",
   "metadata": {},
   "source": [
    "<div style=\"border-left: 3px solid #000; padding: 1px; padding-left: 10px; background: #F0FAFF; \">\n",
    "<center><h1>NumPy</h1></center>\n",
    "\n",
    "<p>NumPy is a Python library that provides efficient implementations of many functions commonly used in scientific programming. NumPy is probably the most widely used library in the scientific Python stack because it provides one crucial data type--multi-dimensional arrays--that allow us to efficiently manipulate large datasets. NumPy arrays are used and supported by nearly every Python analysis and visualization library, making it the de-facto standard for binding these tools together.\n",
    "\n",
    "</div>"
   ]
  },
  {
   "cell_type": "markdown",
   "metadata": {},
   "source": [
    "<div style=\"border-left: 3px solid #000; padding: 1px; padding-left: 10px; background: #F0FAFF; \">\n",
    "<h2>What is an array?</h2>\n",
    "\n",
    "<p><b>Arrays</b> are a very useful concept shared by many programming languages. Arrays are:\n",
    "\n",
    "<ol>\n",
    "<li>Containers that hold many items, all of the same type. \n",
    "<li>Represented by a rectangular structure. Arrays may have any number of dimensions, but each dimension (axis) of the array has a fixed length.\n",
    "</ol>\n",
    "\n",
    "<p>For example:\n",
    "\n",
    "<ul>\n",
    "<li>A 1D array of 10M samples recorded from an electrode\n",
    "\n",
    "\n",
    "<table style='margin: 10px; margin-left: 50px; background-color: #FFF'>\n",
    "<tr><td style=\"background-color: #fff; border: 1px solid #000;\">0.0531</td style=\"background-color: #fff; border: 1px solid #000;\"><td style=\"background-color: #fff; border: 1px solid #000;\">0.0547</td style=\"background-color: #fff; border: 1px solid #000;\"><td style=\"background-color: #fff; border: 1px solid #000;\">0.0522</td style=\"background-color: #fff; border: 1px solid #000;\"><td style=\"background-color: #fff; border: 1px solid #000;\">0.0525</td style=\"background-color: #fff; border: 1px solid #000;\"><td style=\"background-color: #fff; border: 1px solid #000;\">0.0536</td style=\"background-color: #fff; border: 1px solid #000;\"><td style=\"background-color: #fff; border: 1px solid #000;\">0.0531</td style=\"background-color: #fff; border: 1px solid #000;\"><td style=\"background-color: #fff; border: 1px solid #000;\">&nbsp;&nbsp;.&nbsp;&nbsp;&nbsp;.&nbsp;&nbsp;&nbsp;.&nbsp;&nbsp;</td style=\"background-color: #fff; border: 1px solid #000;\"><td style=\"background-color: #fff; border: 1px solid #000;\">0.0530</td style=\"background-color: #fff; border: 1px solid #000;\"></tr>\n",
    "</table>\n",
    "\n",
    "<li>A 5x5 (2D) matrix\n",
    "\n",
    "<table style='margin: 10px; margin-left: 50px'>\n",
    "<tr><td style=\"background-color: #fff; border: 1px solid #000;\">&nbsp;1&nbsp;</td style=\"background-color: #fff; border: 1px solid #000;\"><td style=\"background-color: #fff; border: 1px solid #000;\">&nbsp;0&nbsp;</td style=\"background-color: #fff; border: 1px solid #000;\"><td style=\"background-color: #fff; border: 1px solid #000;\">&nbsp;0&nbsp;</td style=\"background-color: #fff; border: 1px solid #000;\"><td style=\"background-color: #fff; border: 1px solid #000;\">&nbsp;0&nbsp;</td style=\"background-color: #fff; border: 1px solid #000;\"><td style=\"background-color: #fff; border: 1px solid #000;\">&nbsp;0&nbsp;</td style=\"background-color: #fff; border: 1px solid #000;\"></tr>\n",
    "<tr><td style=\"background-color: #fff; border: 1px solid #000;\">&nbsp;0&nbsp;</td style=\"background-color: #fff; border: 1px solid #000;\"><td style=\"background-color: #fff; border: 1px solid #000;\">&nbsp;1&nbsp;</td style=\"background-color: #fff; border: 1px solid #000;\"><td style=\"background-color: #fff; border: 1px solid #000;\">&nbsp;0&nbsp;</td style=\"background-color: #fff; border: 1px solid #000;\"><td style=\"background-color: #fff; border: 1px solid #000;\">&nbsp;0&nbsp;</td style=\"background-color: #fff; border: 1px solid #000;\"><td style=\"background-color: #fff; border: 1px solid #000;\">&nbsp;0&nbsp;</td style=\"background-color: #fff; border: 1px solid #000;\"></tr>\n",
    "<tr><td style=\"background-color: #fff; border: 1px solid #000;\">&nbsp;0&nbsp;</td style=\"background-color: #fff; border: 1px solid #000;\"><td style=\"background-color: #fff; border: 1px solid #000;\">&nbsp;0&nbsp;</td style=\"background-color: #fff; border: 1px solid #000;\"><td style=\"background-color: #fff; border: 1px solid #000;\">&nbsp;1&nbsp;</td style=\"background-color: #fff; border: 1px solid #000;\"><td style=\"background-color: #fff; border: 1px solid #000;\">&nbsp;0&nbsp;</td style=\"background-color: #fff; border: 1px solid #000;\"><td style=\"background-color: #fff; border: 1px solid #000;\">&nbsp;0&nbsp;</td style=\"background-color: #fff; border: 1px solid #000;\"></tr>\n",
    "<tr><td style=\"background-color: #fff; border: 1px solid #000;\">&nbsp;0&nbsp;</td style=\"background-color: #fff; border: 1px solid #000;\"><td style=\"background-color: #fff; border: 1px solid #000;\">&nbsp;0&nbsp;</td style=\"background-color: #fff; border: 1px solid #000;\"><td style=\"background-color: #fff; border: 1px solid #000;\">&nbsp;0&nbsp;</td style=\"background-color: #fff; border: 1px solid #000;\"><td style=\"background-color: #fff; border: 1px solid #000;\">&nbsp;1&nbsp;</td style=\"background-color: #fff; border: 1px solid #000;\"><td style=\"background-color: #fff; border: 1px solid #000;\">&nbsp;0&nbsp;</td style=\"background-color: #fff; border: 1px solid #000;\"></tr>\n",
    "<tr><td style=\"background-color: #fff; border: 1px solid #000;\">&nbsp;0&nbsp;</td style=\"background-color: #fff; border: 1px solid #000;\"><td style=\"background-color: #fff; border: 1px solid #000;\">&nbsp;0&nbsp;</td style=\"background-color: #fff; border: 1px solid #000;\"><td style=\"background-color: #fff; border: 1px solid #000;\">&nbsp;0&nbsp;</td style=\"background-color: #fff; border: 1px solid #000;\"><td style=\"background-color: #fff; border: 1px solid #000;\">&nbsp;0&nbsp;</td style=\"background-color: #fff; border: 1px solid #000;\"><td style=\"background-color: #fff; border: 1px solid #000;\">&nbsp;1&nbsp;</td style=\"background-color: #fff; border: 1px solid #000;\"></tr>\n",
    "</table>\n",
    "\n",
    "<li>A 500x500 pixel image with 3 color channels (3D)<br>\n",
    "\n",
    "<img src=\"support_files/images/numpy/rgb_array.svg\" style=\"margin: 10px; margin-left: 50px\">\n",
    "\n",
    "</ul>\n",
    "\n",
    "<br>\n",
    "\n",
    "<h3>More on arrays</h3>\n",
    "\n",
    "   <a href=https://docs.scipy.org/doc/numpy/reference/arrays.ndarray.html>The N-dimensional array (ndarray)</a>\n",
    "\n",
    "</div>"
   ]
  },
  {
   "cell_type": "markdown",
   "metadata": {},
   "source": [
    "<div style=\"border-left: 3px solid #000; padding: 1px; padding-left: 10px; background: #F0FAFF; \">\n",
    "<h2>Why are arrays useful?</h2>\n",
    "\n",
    "<ul>\n",
    "<li>They are the standard data structure used by most analysis / visualization tools\n",
    "<li>They are fast\n",
    "<li>They use memory efficiently\n",
    "<li>Used correctly, they can make your code more concise\n",
    "</ul>\n",
    "\n",
    "<p>In principle, we could create multi-dimensional array-like structures simply by nesting Python lists together. In practice, this approach is tedious and inefficient.\n",
    "\n",
    "<p>As an example, let's try constructing a 2D array out of nested Python lists, and compare this approach to using NumPy arrays. \n",
    "\n",
    "<p>I will build an \"array\" of random numbers that is 200 columns x 50k rows:\n",
    "</div>"
   ]
  },
  {
   "cell_type": "code",
   "execution_count": 6,
   "metadata": {},
   "outputs": [
    {
     "data": {
      "text/plain": [
       "[[0, 4, 4, 2, 2, 6, 2, 0, 4, 5, 6, 6, 4, 8, 6],\n",
       " [0, 8, 8, 9, 5, 1, 8, 9, 3, 0, 9, 6, 5, 5, 4],\n",
       " [1, 9, 4, 9, 6, 6, 3, 5, 6, 1, 8, 9, 3, 1, 8],\n",
       " [3, 3, 8, 5, 1, 3, 3, 8, 8, 2, 3, 5, 9, 9, 6],\n",
       " [0, 0, 9, 3, 3, 6, 7, 2, 2, 1, 5, 8, 1, 3, 1],\n",
       " [8, 8, 7, 5, 3, 9, 4, 5, 1, 4, 0, 3, 5, 6, 2],\n",
       " [7, 8, 0, 3, 7, 9, 4, 6, 7, 8, 1, 0, 3, 5, 7],\n",
       " [8, 4, 6, 7, 9, 5, 7, 7, 8, 8, 6, 4, 3, 0, 2],\n",
       " [8, 9, 7, 4, 3, 3, 8, 4, 3, 2, 1, 1, 4, 3, 7],\n",
       " [3, 0, 9, 9, 3, 6, 6, 4, 5, 3, 8, 6, 2, 1, 2]]"
      ]
     },
     "execution_count": 6,
     "metadata": {},
     "output_type": "execute_result"
    }
   ],
   "source": [
    "import random\n",
    "\n",
    "rows = 100000\n",
    "cols = 200\n",
    "\n",
    "# Create a list that is 100,000 rows long, where each item in the list\n",
    "# is a nested list of 200 random values.\n",
    "awkward_array = []\n",
    "for i in range(rows):\n",
    "    row = []\n",
    "    for j in range(cols):\n",
    "        row.append(int(10*random.random()))\n",
    "    awkward_array.append(row)\n",
    "\n",
    "# display a small subset of this \"array\"\n",
    "[row[:15] for row in awkward_array[:10]]"
   ]
  },
  {
   "cell_type": "markdown",
   "metadata": {},
   "source": [
    "<div style=\"border-left: 3px solid #000; padding: 1px; padding-left: 10px; background: #F0FAFF; \">\n",
    "Now I want to calculate the mean value of every column:\n",
    "</div>"
   ]
  },
  {
   "cell_type": "code",
   "execution_count": 7,
   "metadata": {},
   "outputs": [
    {
     "name": "stdout",
     "output_type": "stream",
     "text": [
      "[4.48788, 4.51222, 4.51212, 4.49976, 4.4909]\n"
     ]
    }
   ],
   "source": [
    "# For each column, collect all values in the column and then compute the average.\n",
    "meanvals = []\n",
    "for j in range(cols):\n",
    "    col = [row[j] for row in awkward_array]\n",
    "    meanvals.append(sum(col) / float(rows))\n",
    "    \n",
    "print(meanvals[:5])"
   ]
  },
  {
   "cell_type": "markdown",
   "metadata": {},
   "source": [
    "<div style=\"border-left: 3px solid #000; padding: 1px; padding-left: 10px; background: #F0FAFF; \">\n",
    "This code works, but it is:<br>\n",
    "\n",
    "<ul>\n",
    "<li>Slow - Python lists can contain mixed data types. One consequence is that when we add up values in a column, Python has to check <b>each</b> value to make sure it is a numerical type that can be added to the running total. If the array is large, that overhead can add up quickly!\n",
    "\n",
    "<li>Memory-inefficient - We should be able to represent this data set using <code>rows * cols = 20M numbers</code>, plus some small overhead. Python lists have about 1kB of memory overhead <b>per list</b>, which again can add up quickly. If your data just barely fits in memory, this will ruin your day.  Python lists can also vary in length, which means their contents are not necessary contiguous.  This can result in slower times for accessing data.\n",
    "\n",
    "<li>Verbose - this very simple task can be written much more compactly with the right tools.\n",
    "</ul>\n",
    "</div>"
   ]
  },
  {
   "cell_type": "markdown",
   "metadata": {},
   "source": [
    "<div style=\"border-left: 3px solid #000; padding: 1px; padding-left: 10px; background: #F0FAFF; \">\n",
    "<h2>NumPy to the rescue</h2>\n",
    "\n",
    "<p>The code we just ran can be expressed much more concisely using a numpy array:\n",
    "</div>"
   ]
  },
  {
   "cell_type": "code",
   "execution_count": 8,
   "metadata": {},
   "outputs": [],
   "source": [
    "import numpy as np"
   ]
  },
  {
   "cell_type": "code",
   "execution_count": 9,
   "metadata": {},
   "outputs": [
    {
     "name": "stdout",
     "output_type": "stream",
     "text": [
      "[0.499668   0.50102017 0.49958492 0.49991513 0.49990826]\n"
     ]
    }
   ],
   "source": [
    "data = np.random.random(size=(rows, cols))\n",
    "meanvals = data.mean(axis=0)\n",
    "print(meanvals[:5])"
   ]
  },
  {
   "cell_type": "markdown",
   "metadata": {},
   "source": [
    "<div style=\"border-left: 3px solid #000; padding: 1px; padding-left: 10px; background: #F0FAFF; \">\n",
    "These three lines of code replace the 16 lines that it took to perform the same operation with lists, and it runs in a small fraction of the time. \n",
    "\n",
    "<br><br>\n",
    "    <b>Documentation:</b><br>\n",
    "<a href=\"https://docs.scipy.org/doc/numpy/reference/random/index.html?highlight=random#module-numpy.random\">np.random</a><br>\n",
    "<a href=\"https://docs.scipy.org/doc/numpy/reference/generated/numpy.mean.html#numpy.mean\">numpy.mean</a>\n",
    "\n",
    "Let's explore the array object we just created:\n",
    "<div> <!-- NOTE: this div is a workaround for a jupyter HTML export bug --> </div>\n",
    "</div>"
   ]
  },
  {
   "cell_type": "code",
   "execution_count": 10,
   "metadata": {},
   "outputs": [
    {
     "data": {
      "text/plain": [
       "2"
      ]
     },
     "execution_count": 10,
     "metadata": {},
     "output_type": "execute_result"
    }
   ],
   "source": [
    "# numpy arrays have a set number of dimensions:\n",
    "data.ndim"
   ]
  },
  {
   "cell_type": "code",
   "execution_count": 11,
   "metadata": {},
   "outputs": [
    {
     "data": {
      "text/plain": [
       "(100000, 200)"
      ]
     },
     "execution_count": 11,
     "metadata": {},
     "output_type": "execute_result"
    }
   ],
   "source": [
    "# each dimension has a specific length\n",
    "data.shape"
   ]
  },
  {
   "cell_type": "code",
   "execution_count": 12,
   "metadata": {},
   "outputs": [
    {
     "data": {
      "text/plain": [
       "20000000"
      ]
     },
     "execution_count": 12,
     "metadata": {},
     "output_type": "execute_result"
    }
   ],
   "source": [
    "# The total number of items in this array (200 * 100k) is given by the size attribute\n",
    "data.size"
   ]
  },
  {
   "cell_type": "code",
   "execution_count": 13,
   "metadata": {},
   "outputs": [
    {
     "data": {
      "text/plain": [
       "160000000"
      ]
     },
     "execution_count": 13,
     "metadata": {},
     "output_type": "execute_result"
    }
   ],
   "source": [
    "# The array's memory usage is the number of items (200 * 100k)\n",
    "# times the number of bytes used by each item\n",
    "data.size * data.itemsize"
   ]
  },
  {
   "cell_type": "markdown",
   "metadata": {},
   "source": [
    "<div style=\"border-left: 3px solid #000; padding: 1px; padding-left: 10px; background: #F0FAFF; \">\n",
    "<p>This array uses 160MB of memory to represent 20M values. Why do we use 8 bytes for each item?\n",
    "</div>"
   ]
  },
  {
   "cell_type": "code",
   "execution_count": 14,
   "metadata": {},
   "outputs": [
    {
     "data": {
      "text/plain": [
       "dtype('float64')"
      ]
     },
     "execution_count": 14,
     "metadata": {},
     "output_type": "execute_result"
    }
   ],
   "source": [
    "# all items in the array share the same data type\n",
    "data.dtype"
   ]
  },
  {
   "cell_type": "markdown",
   "metadata": {},
   "source": [
    "<div style=\"border-left: 3px solid #000; padding: 1px; padding-left: 10px; background: #F0FAFF; \">\n",
    "<p>All elements in the array are of the same data type, a 64-bit (8 byte) floating-point number.\n",
    "\n",
    "<p>This is the default <b>dtype</b>, but there are many other options we can pick from. Whether we <b>care</b> enough to worry about dtype depends on what we want to do with the array, and whether we are likely to run out of memory. Some of the most commonly used dtypes are listed here:\n",
    "\n",
    "<table style=\"margin-left: 50px\">\n",
    "<tr><td> dtype  </td><td> bytes     </td><td> precision  </td><td> approx. range       </td></tr>\n",
    "<tr><td>float64 </td><td> 8         </td><td> 16         </td><td> ±10<sup>308</sup>   </td></tr>\n",
    "<tr><td>float32 </td><td> 4         </td><td> 7          </td><td> ±10<sup>38</sup>    </td></tr>\n",
    "<tr><td>int64   </td><td> 8         </td><td> 0          </td><td> ±10<sup>18</sup>    </td></tr>\n",
    "<tr><td>int32   </td><td> 4         </td><td> 0          </td><td> ±10<sup>9</sup>     </td></tr>\n",
    "<tr><td>int16   </td><td> 2         </td><td> 0          </td><td> ±10<sup>4</sup>     </td></tr>\n",
    "<tr><td>uint64  </td><td> 8         </td><td> 0          </td><td> 0 to 10<sup>19</sup></td></tr>\n",
    "<tr><td>uint32  </td><td> 4         </td><td> 0          </td><td> 0 to 10<sup>9</sup> </td></tr>\n",
    "<tr><td>uint16  </td><td> 2         </td><td> 0          </td><td> 0 to 10<sup>4</sup> </td></tr>\n",
    "<tr><td>uint8   </td><td> 1         </td><td> 0          </td><td> 0-255               </td></tr>\n",
    "<tr><td>bool    </td><td> 1         </td><td> 0          </td><td> 0-1                 </td></tr>\n",
    "</table>\n",
    "\n",
    "<br>\n",
    "    <b>Documentation:<b></br>\n",
    "<a href=\"https://docs.scipy.org/doc/numpy/user/basics.types.html\">Data types</a>\n",
    "\n",
    "<a href=\"https://docs.scipy.org/doc/numpy/reference/generated/numpy.ndarray.html\">numpy.ndarray</a>\n",
    "\n",
    "\n",
    "----------------------\n",
    "\n",
    "To convert an array to a different dtype, use the <b>astype()</b> method.\n",
    "<div> <!-- NOTE: this div is a workaround for a jupyter HTML export bug --> </div>\n",
    "</div>"
   ]
  },
  {
   "cell_type": "code",
   "execution_count": 15,
   "metadata": {},
   "outputs": [
    {
     "data": {
      "text/plain": [
       "80000000"
      ]
     },
     "execution_count": 15,
     "metadata": {},
     "output_type": "execute_result"
    }
   ],
   "source": [
    "smaller_data = data.astype('float32')\n",
    "\n",
    "# This should be half the size of the original array\n",
    "smaller_data.size * smaller_data.itemsize"
   ]
  },
  {
   "cell_type": "markdown",
   "metadata": {},
   "source": [
    "<div style=\"border-left: 3px solid #000; padding: 1px; padding-left: 10px; background: #F0FAFF; \">\n",
    "<h2>Creating new arrays</h2>\n",
    "\n",
    "<p>NumPy offers several mechanisms for creating new arrays. Let's look at a few of the more common approaches.\n",
    "\n",
    "<p><b>Note:</b> We are about to skim through a lot of vocabulary. Please do NOT attempt to memorize everything you see. Most of this is listed in the NumPy cheat sheet, and we just want to give you an idea of what NumPy <i>can</i> do.\n",
    "\n",
    "<hr>\n",
    "\n",
    "<p><b>Nested lists</b>\n",
    "</div>"
   ]
  },
  {
   "cell_type": "code",
   "execution_count": 16,
   "metadata": {},
   "outputs": [
    {
     "name": "stdout",
     "output_type": "stream",
     "text": [
      "[[1 2]\n",
      " [3 4]\n",
      " [5 6]\n",
      " [7 8]]\n"
     ]
    }
   ],
   "source": [
    "# Create an array from nested lists.\n",
    "list_data = [[1,2], [3,4], [5,6], [7,8]]\n",
    "arr1 = np.array(list_data)\n",
    "print(arr1)"
   ]
  },
  {
   "cell_type": "code",
   "execution_count": 17,
   "metadata": {},
   "outputs": [
    {
     "data": {
      "text/plain": [
       "(4, 2)"
      ]
     },
     "execution_count": 17,
     "metadata": {},
     "output_type": "execute_result"
    }
   ],
   "source": [
    "# list_data is a list of length 4, \n",
    "# and each of its items is a nested list of length 2.\n",
    "# This corresponds to an array shape (4, 2)\n",
    "arr1.shape"
   ]
  },
  {
   "cell_type": "markdown",
   "metadata": {},
   "source": [
    "<div style=\"background: #DFF0D8; border-radius: 3px; padding: 10px;\">\n",
    "<p><b>Exercise 4.1:</b>\n",
    "\n",
    "Use <code>np.array</code> to create a 3-dimensional array with the shape (2, 4, 3)\n",
    "\n",
    "</div>"
   ]
  },
  {
   "cell_type": "code",
   "execution_count": 22,
   "metadata": {},
   "outputs": [
    {
     "name": "stdout",
     "output_type": "stream",
     "text": [
      "shape (2, 4, 3)\n",
      "\n",
      " [[[ 1  2  3]\n",
      "  [ 4  5  6]\n",
      "  [ 7  8  9]\n",
      "  [10 11 12]]\n",
      "\n",
      " [[13 14 15]\n",
      "  [16 17 18]\n",
      "  [19 20 21]\n",
      "  [21 22 23]]]\n"
     ]
    }
   ],
   "source": [
    "# shape (2,4,3)\n",
    "x = [\n",
    "    [ [1,2,3], [4,5,6], [7,8,9], [10,11,12]],\n",
    "    [ [13,14,15], [16,17,18], [19,20,21], [21,22,23]]\n",
    "]\n",
    "my_array = np.array(x)\n",
    "print(\"shape\", my_array.shape)\n",
    "print(\"\\n\",my_array)"
   ]
  },
  {
   "cell_type": "markdown",
   "metadata": {},
   "source": [
    "<div style=\"border-left: 3px solid #000; padding: 1px; padding-left: 10px; background: #F0FAFF; \">\n",
    "<h3>zeros()</h3>\n",
    "</div>"
   ]
  },
  {
   "cell_type": "code",
   "execution_count": 23,
   "metadata": {},
   "outputs": [
    {
     "name": "stdout",
     "output_type": "stream",
     "text": [
      "[[0 0 0 0 0 0 0 0 0 0]\n",
      " [0 0 0 0 0 0 0 0 0 0]\n",
      " [0 0 0 0 0 0 0 0 0 0]\n",
      " [0 0 0 0 0 0 0 0 0 0]\n",
      " [0 0 0 0 0 0 0 0 0 0]]\n",
      "shape: (5, 10) dtype: uint16\n"
     ]
    }
   ],
   "source": [
    "# Create an array of a certain shape and dtype, filled with zeros\n",
    "arr2 = np.zeros((5, 10), dtype='uint16')\n",
    "print(arr2)\n",
    "print(\"shape:\", arr2.shape, \"dtype:\", arr2.dtype)"
   ]
  },
  {
   "cell_type": "markdown",
   "metadata": {},
   "source": [
    "<div style=\"border-left: 3px solid #000; padding: 1px; padding-left: 10px; background: #F0FAFF; \">\n",
    "<h3>arange()</h3>\n",
    "</div>"
   ]
  },
  {
   "cell_type": "code",
   "execution_count": 24,
   "metadata": {},
   "outputs": [
    {
     "name": "stdout",
     "output_type": "stream",
     "text": [
      "[ 5  6  7  8  9 10]\n"
     ]
    }
   ],
   "source": [
    "# Create a 1D array of consecutive integers \n",
    "print(np.arange(5, 11))"
   ]
  },
  {
   "cell_type": "markdown",
   "metadata": {},
   "source": [
    "<div style=\"border-left: 3px solid #000; padding: 1px; padding-left: 10px; background: #F0FAFF; \">\n",
    "<h3>fromfunction()</h3>\n",
    "</div>"
   ]
  },
  {
   "cell_type": "code",
   "execution_count": 25,
   "metadata": {
    "scrolled": true
   },
   "outputs": [
    {
     "name": "stdout",
     "output_type": "stream",
     "text": [
      "[[  0   0   0   0   0   0   0   0   0   0]\n",
      " [  0   0   0   0   0   0   0   0   0   0]\n",
      " [  0   0   0   0   0   0   0   0   0   0]\n",
      " [  0   0   0   1  16  31  16   1   0   0]\n",
      " [  0   0   0  16  75  93  75  16   0   0]\n",
      " [  0   0   0  31  93 100  93  31   0   0]\n",
      " [  0   0   0  16  75  93  75  16   0   0]\n",
      " [  0   0   0   1  16  31  16   1   0   0]\n",
      " [  0   0   0   0   0   0   0   0   0   0]\n",
      " [  0   0   0   0   0   0   0   0   0   0]]\n"
     ]
    }
   ],
   "source": [
    "# Create an array and fill it with values generated by a function.\n",
    "# For each element in the new array, the function will be called with the element's indices as its arguments.\n",
    "def gauss(x, y, center=(5, 5), sigma=3.5):\n",
    "    dist = ((x-center[0])**2 + (y-center[1])**2) * 0.5\n",
    "    return 100 * np.exp(-dist**2 / sigma)\n",
    "\n",
    "gauss_data = np.fromfunction(gauss, (10, 10))\n",
    "print(gauss_data.astype('int'))  # convert to int for easier reading"
   ]
  },
  {
   "cell_type": "code",
   "execution_count": 26,
   "metadata": {},
   "outputs": [
    {
     "data": {
      "image/png": "[encoded data removed]",
      "text/plain": [
       "<Figure size 640x480 with 1 Axes>"
      ]
     },
     "metadata": {},
     "output_type": "display_data"
    }
   ],
   "source": [
    "# let's visualize that array as an image\n",
    "from matplotlib.pylab import imshow\n",
    "%matplotlib inline\n",
    "imshow(gauss_data, interpolation='none', cmap='magma');"
   ]
  },
  {
   "cell_type": "markdown",
   "metadata": {},
   "source": [
    "<div style=\"border-left: 3px solid #000; padding: 1px; padding-left: 10px; background: #F0FAFF; \">\n",
    "    <b>Documentation:</b><br>\n",
    "<a href=\"https://docs.scipy.org/doc/numpy/reference/routines.array-creation.html\">Array creation routines</a>\n",
    "</div>"
   ]
  },
  {
   "cell_type": "markdown",
   "metadata": {},
   "source": [
    "<div style=\"border-left: 3px solid #000; padding: 1px; padding-left: 10px; background: #F0FAFF; \">\n",
    "<h2>Accessing single values from arrays</h2>\n",
    "</div>"
   ]
  },
  {
   "cell_type": "code",
   "execution_count": null,
   "metadata": {
    "scrolled": true,
    "tags": []
   },
   "outputs": [],
   "source": [
    "# Create a small array to play with\n",
    "arr4 = np.array([[1,2,3,4,5], [6,7,8,9,10], [11,12,13,14,15]])\n",
    "print(arr4)"
   ]
  },
  {
   "cell_type": "code",
   "execution_count": null,
   "metadata": {},
   "outputs": [],
   "source": [
    "# To read a single value from the array, we index the array using [] notation\n",
    "# and supply a comma-separated list of indices, one per axis\n",
    "print(arr4[2, 3])"
   ]
  },
  {
   "cell_type": "code",
   "execution_count": null,
   "metadata": {
    "scrolled": true
   },
   "outputs": [],
   "source": [
    "# To change one value in the array:\n",
    "arr4[1, 2] = -1\n",
    "print(arr4)"
   ]
  },
  {
   "cell_type": "markdown",
   "metadata": {},
   "source": [
    "<div style=\"background: #DFF0D8; border-radius: 3px; padding: 10px;\">\n",
    "<p><b>Exercise 4.2:</b>\n",
    "\n",
    "In the cell below, we create a small array of random integers.  \n",
    "<ol>\n",
    "<li>Use <code>np.zeros</code> to create a new array with the same shape as <code>rand_arr</code>\n",
    "<li>Write a for-loop that sets each item of the new array equal to the corresponding item in <code>rand_arr</code> plus one\n",
    "</ol>\n",
    "</div>"
   ]
  },
  {
   "cell_type": "code",
   "execution_count": 34,
   "metadata": {},
   "outputs": [
    {
     "name": "stdout",
     "output_type": "stream",
     "text": [
      "[5 3 8 7 0 3 0 4 4 2]\n",
      "[0 0 0 0 0 0 0 0 0 0]\n",
      "[6 4 9 8 1 4 1 5 5 3]\n"
     ]
    }
   ],
   "source": [
    "rand_arr = np.random.randint(0, 9, size=10)\n",
    "print(rand_arr)\n",
    "zero_arr = np.zeros(rand_arr.shape, dtype=rand_arr.dtype)\n",
    "print(zero_arr)\n",
    "for i in range(zero_arr.size):\n",
    "    zero_arr[i] = rand_arr[i] + 1\n",
    "print(zero_arr)"
   ]
  },
  {
   "cell_type": "markdown",
   "metadata": {},
   "source": [
    "<div style=\"border-left: 3px solid #000; padding: 1px; padding-left: 10px; background: #F0FAFF; \">\n",
    "    <h3>Documentation</h3>\n",
    "    \n",
    "<a href=\"https://docs.scipy.org/doc/numpy/reference/arrays.indexing.html\">Indexing</a>\n",
    "</div>"
   ]
  },
  {
   "cell_type": "markdown",
   "metadata": {},
   "source": [
    "<div style=\"border-left: 3px solid #000; padding: 1px; padding-left: 10px; background: #F0FAFF; \">\n",
    "<h2>Arithmetic with arrays</h2>\n",
    "\n",
    "<p>In the exercise above, you used a nested for-loop to access each element of an array, one at a time. This is fine for small arrays, but for large arrays we would be executing many Python statements, each of which has a significant performance cost. \n",
    "\n",
    "<p>NumPy provides a way to express this operation (and many others) using a single Python statement:\n",
    "</div>"
   ]
  },
  {
   "cell_type": "code",
   "execution_count": 35,
   "metadata": {},
   "outputs": [
    {
     "name": "stdout",
     "output_type": "stream",
     "text": [
      "[0 1 2 3 4 5 6 7]\n",
      "[2 3 4 5 6 7 8 9]\n"
     ]
    }
   ],
   "source": [
    "# Start with a 1D array of integers 0 through 7\n",
    "arr5 = np.arange(8)\n",
    "print(arr5)\n",
    "\n",
    "# Create a new array by adding 2 to each element of arr5\n",
    "arr6 = arr5 + 2\n",
    "print(arr6)"
   ]
  },
  {
   "cell_type": "markdown",
   "metadata": {},
   "source": [
    "<div style=\"border-left: 3px solid #000; padding: 1px; padding-left: 10px; background: #F0FAFF; \">\n",
    "<p>This process--replacing nested for-loops with array operations--is called <b>vectorization</b>. It both speeds up our code and makes it easier to read and write.\n",
    "\n",
    "<hr>\n",
    "\n",
    "It is also possible to modify an existing array in-place, rather than creating a new array:\n",
    "</div>"
   ]
  },
  {
   "cell_type": "code",
   "execution_count": 36,
   "metadata": {},
   "outputs": [
    {
     "name": "stdout",
     "output_type": "stream",
     "text": [
      "[0 1 2 3 4 5 6 7]\n"
     ]
    }
   ],
   "source": [
    "# subtract 2 directly from each element in arr6; do not create a new array\n",
    "arr6 -= 2\n",
    "print(arr6)"
   ]
  },
  {
   "cell_type": "markdown",
   "metadata": {},
   "source": [
    "<div style=\"border-left: 3px solid #000; padding: 1px; padding-left: 10px; background: #F0FAFF; \">\n",
    "    <p><b>Note:</b> most functions in numpy will either <b>create</b> and return a new array, or <b>modify</b> an existing array in-place. Keep track of which of these is happening in your code, and look for this whenever you read the documentation.\n",
    "</div>"
   ]
  },
  {
   "cell_type": "markdown",
   "metadata": {},
   "source": [
    "<div style=\"background: #DFF0D8; border-radius: 3px; padding: 10px;\">\n",
    "<p><b>Exercise 4.3:</b>\n",
    "\n",
    "<p>Create a 1D array that contains the values (2^x - 1) for integer\n",
    "values of x from 0 to 10. For example, the first 3 items\n",
    "are:\n",
    "\n",
    "<pre>\n",
    "   2^0 - 1 = 0\n",
    "   2^1 - 1 = 1\n",
    "   2^2 - 1 = 3\n",
    "</pre>\n",
    "\n",
    "\n",
    "Suggested strategy:\n",
    "<ul>\n",
    "<li>Use <code>np.arange</code> to generate the array of x values\n",
    "<li>Compute (2^x - 1) by using simple arithmetic operators like above\n",
    "<li>For this exercise, do not use for-loops or <code>fromfunction()</code>\n",
    "</ul>\n",
    "\n",
    "<p>Note: the exponent operator in Python is two asterisks: **\n",
    "</div>"
   ]
  },
  {
   "cell_type": "code",
   "execution_count": 40,
   "metadata": {},
   "outputs": [
    {
     "name": "stdout",
     "output_type": "stream",
     "text": [
      "[-1  0  3  8 15 24 35 48 63 80]\n"
     ]
    }
   ],
   "source": [
    "my_arr = np.arange(10)\n",
    "my_arr **= 2\n",
    "my_arr  -= 1\n",
    "print(my_arr)"
   ]
  },
  {
   "cell_type": "markdown",
   "metadata": {},
   "source": [
    "<div style=\"border-left: 3px solid #000; padding: 1px; padding-left: 10px; background: #F0FAFF; \">\n",
    "<h3>Elementwise arithmetic between arrays</h3>\n",
    "\n",
    "<p>We have just seen an example of arithmetic between an array and a scalar (single value). It is also possible to perform arithmetic element-wise between two arrays:\n",
    "</div>"
   ]
  },
  {
   "cell_type": "code",
   "execution_count": 41,
   "metadata": {},
   "outputs": [
    {
     "name": "stdout",
     "output_type": "stream",
     "text": [
      "[ 0  1  4  9 16 25 36 49]\n"
     ]
    }
   ],
   "source": [
    "# Create a new array arr7 where each item is the product \n",
    "# of the corresponding items in arr5 and arr6\n",
    "arr7 = arr5 * arr6\n",
    "print(arr7)"
   ]
  },
  {
   "cell_type": "code",
   "execution_count": 43,
   "metadata": {},
   "outputs": [
    {
     "name": "stdout",
     "output_type": "stream",
     "text": [
      "[[10 20]\n",
      " [60 80]]\n"
     ]
    }
   ],
   "source": [
    "# We can do the same with arrays of any dimension\n",
    "arr8 = np.array([[1, 2], [3, 4]])\n",
    "arr9 = np.array([[10, 10], [20, 20]])\n",
    "print(arr8 * arr9)"
   ]
  },
  {
   "cell_type": "markdown",
   "metadata": {},
   "source": [
    "<div style=\"border-left: 3px solid #000; padding: 1px; padding-left: 10px; background: #F0FAFF; \">\n",
    "Note: in the above example, the arrays are multiplied <b>elementwise</b>; this is not a dot-product!\n",
    "\n",
    "<p>This is a frequent point of confusion for MATLAB users. Whereas MATLAB began life as a linear algebra system, NumPy was designed as a more general-purpose numerical computation system. <br><br>\n",
    "\n",
    "</div>"
   ]
  },
  {
   "cell_type": "markdown",
   "metadata": {},
   "source": [
    "<div style=\"background: #DFF0D8; border-radius: 3px; padding: 10px;\">\n",
    "<p><b>Exercise 4.4:</b>  Divide one array by a second array in an elementwise fashion and save the result as a new array.  What happens if the second array contains a zero?\n",
    "</div>"
   ]
  },
  {
   "cell_type": "code",
   "execution_count": 53,
   "metadata": {
    "scrolled": true
   },
   "outputs": [
    {
     "name": "stdout",
     "output_type": "stream",
     "text": [
      "[nan  2.  2.  2.  2.  2.  2.  2.  2.  2.]\n"
     ]
    },
    {
     "name": "stderr",
     "output_type": "stream",
     "text": [
      "/tmp/ipykernel_63030/2567869272.py:3: RuntimeWarning: invalid value encountered in true_divide\n",
      "  c = a/b\n"
     ]
    }
   ],
   "source": [
    "a = np.arange(0,20,2)\n",
    "b = np.arange(10)\n",
    "c = a/b\n",
    "print(c)"
   ]
  },
  {
   "cell_type": "markdown",
   "metadata": {},
   "source": [
    "<div style=\"background: #DFF0D8; border-radius: 3px; padding: 10px;\">\n",
    "<p><b>Exercise 4.5:</b> Make the two arrays different sizes - how does that affect the operations above?\n",
    "</div>"
   ]
  },
  {
   "cell_type": "code",
   "execution_count": 51,
   "metadata": {},
   "outputs": [
    {
     "ename": "ValueError",
     "evalue": "operands could not be broadcast together with shapes (20,) (10,) ",
     "output_type": "error",
     "traceback": [
      "\u001b[0;31m---------------------------------------------------------------------------\u001b[0m",
      "\u001b[0;31mValueError\u001b[0m                                Traceback (most recent call last)",
      "Input \u001b[0;32mIn [51]\u001b[0m, in \u001b[0;36m<cell line: 3>\u001b[0;34m()\u001b[0m\n\u001b[1;32m      1\u001b[0m a \u001b[38;5;241m=\u001b[39m np\u001b[38;5;241m.\u001b[39marange(\u001b[38;5;241m20\u001b[39m)\n\u001b[1;32m      2\u001b[0m b \u001b[38;5;241m=\u001b[39m np\u001b[38;5;241m.\u001b[39marange(\u001b[38;5;241m10\u001b[39m)\n\u001b[0;32m----> 3\u001b[0m c \u001b[38;5;241m=\u001b[39m \u001b[43ma\u001b[49m\u001b[38;5;241;43m/\u001b[39;49m\u001b[43mb\u001b[49m\n",
      "\u001b[0;31mValueError\u001b[0m: operands could not be broadcast together with shapes (20,) (10,) "
     ]
    }
   ],
   "source": [
    "a = np.arange(20)\n",
    "b = np.arange(10)\n",
    "c = a/b"
   ]
  },
  {
   "cell_type": "markdown",
   "metadata": {},
   "source": [
    "<div style=\"border-left: 3px solid #000; padding: 1px; padding-left: 10px; background: #F0FAFF; \">\n",
    "<h3>Other mathematical functions</h3>\n",
    "\n",
    "<p>NumPy includes an extensive library of mathematical functions that operate on arrays. The full list can be found here: \n",
    " \n",
    " <a href=\"https://docs.scipy.org/doc/numpy/reference/routines.math.html\">Mathematical functions</a>\n",
    "\n",
    "<p>Let's look at just a couple of commonly used functions:\n",
    "</div>"
   ]
  },
  {
   "cell_type": "code",
   "execution_count": 55,
   "metadata": {
    "scrolled": true
   },
   "outputs": [
    {
     "name": "stdout",
     "output_type": "stream",
     "text": [
      "[2.71828183e+00 3.98247844e+07 5.83461743e+14 8.54813429e+21\n",
      " 1.25236317e+29 1.83480214e+36 2.68811714e+43]\n"
     ]
    }
   ],
   "source": [
    "# Generate an array containing e^x for several values of x\n",
    "arr10 = np.linspace(1, 100, 7)\n",
    "print(np.exp(arr10))"
   ]
  },
  {
   "cell_type": "markdown",
   "metadata": {},
   "source": [
    "<div style=\"background: #DFF0D8; border-radius: 3px; padding: 10px;\">\n",
    "<p><b>Exercise 4.6:</b>\n",
    "\n",
    "Show a plot of a sine wave.\n",
    "\n",
    "<p>Suggested strategy:\n",
    "<ol>\n",
    "<li>Create an array of time (or phase) values using <code>np.arange()</code> multiplied by a scale factor\n",
    "<li>Compute the sine of this array using <code>np.sin()</code>\n",
    "<li>Plot the result using <code>plot(x, y)</code>, which is imported from matplotlib below \n",
    "</ol>\n",
    "</div>"
   ]
  },
  {
   "cell_type": "code",
   "execution_count": 81,
   "metadata": {
    "scrolled": false
   },
   "outputs": [
    {
     "data": {
      "text/plain": [
       "[<matplotlib.lines.Line2D at 0x7f1a9e226a90>]"
      ]
     },
     "execution_count": 81,
     "metadata": {},
     "output_type": "execute_result"
    },
    {
     "data": {
      "image/png": "[encoded data removed]",
      "text/plain": [
       "<Figure size 640x480 with 1 Axes>"
      ]
     },
     "metadata": {},
     "output_type": "display_data"
    }
   ],
   "source": [
    "from matplotlib.pylab import plot\n",
    "time = 2*np.pi*0.01*np.arange(1000)\n",
    "y = np.sin(time)\n",
    "plot(time,y)"
   ]
  },
  {
   "cell_type": "markdown",
   "metadata": {},
   "source": [
    "<div style=\"border-left: 3px solid #000; padding: 1px; padding-left: 10px; background: #F0FAFF; \">\n",
    "<h2>Accessing array sub-regions (slicing)</h2>\n",
    "\n",
    "<p>When dealing with arrays, it is common that we will want to select a specific sub-region of the array. This allows us to either extract a portion of the original data for focused analysis, or to modify a selected portion of the original array.\n",
    "\n",
    "<p>We can select a subregion of an array using indexing and slice notation, exactly as we would with a list:\n",
    "</div>"
   ]
  },
  {
   "cell_type": "code",
   "execution_count": 87,
   "metadata": {},
   "outputs": [
    {
     "name": "stdout",
     "output_type": "stream",
     "text": [
      "[ 0  1  2  3  4  5  6  7  8  9 10 11 12 13 14 15 16 17 18 19]\n"
     ]
    }
   ],
   "source": [
    "# To start simple, let's just take a 1D array and slice it up a few different ways\n",
    "arr12 = np.arange(20)\n",
    "print(arr12)"
   ]
  },
  {
   "cell_type": "code",
   "execution_count": 85,
   "metadata": {},
   "outputs": [
    {
     "name": "stdout",
     "output_type": "stream",
     "text": [
      "[ 5  6  7  8  9 10 11 12 13 14]\n"
     ]
    }
   ],
   "source": [
    "# Take a slice from index 5 until 15\n",
    "print(arr12[5:15])"
   ]
  },
  {
   "cell_type": "code",
   "execution_count": 86,
   "metadata": {},
   "outputs": [
    {
     "name": "stdout",
     "output_type": "stream",
     "text": [
      "[0 1 2 3 4 5 6]\n"
     ]
    }
   ],
   "source": [
    "# Slice from the beginning until the 7th element\n",
    "print(arr12[:7])"
   ]
  },
  {
   "cell_type": "code",
   "execution_count": 60,
   "metadata": {},
   "outputs": [
    {
     "name": "stdout",
     "output_type": "stream",
     "text": [
      "[11 12 13 14 15 16 17 18 19]\n"
     ]
    }
   ],
   "source": [
    "# Slice from the 11th element until the end\n",
    "print(arr12[11:])"
   ]
  },
  {
   "cell_type": "code",
   "execution_count": 88,
   "metadata": {},
   "outputs": [
    {
     "name": "stdout",
     "output_type": "stream",
     "text": [
      "[15 16 17 18 19]\n"
     ]
    }
   ],
   "source": [
    "# Extract the last 5 elements\n",
    "print(arr12[-5:])"
   ]
  },
  {
   "cell_type": "markdown",
   "metadata": {},
   "source": [
    "<div style=\"border-left: 3px solid #000; padding: 1px; padding-left: 10px; background: #F0FAFF; \">\n",
    "<h3>Aside: some arrays share memory!</h3>\n",
    "<p>Note that when we slice an array, the original array is unchanged. However, the new array that we create is actually a <b>view</b> on the original array. No data is copied when the view is created. This means that modifications made to either array will be visible from both:\n",
    "</div>"
   ]
  },
  {
   "cell_type": "markdown",
   "metadata": {},
   "source": [
    "<div style=\"border-left: 3px solid #000; padding: 1px; padding-left: 10px; background: #F0FAFF; \">\n",
    "<h3>Multi-dimensional indexing</h3>\n",
    "\n",
    "<p>One major difference between lists and arrays is that we may index or slice multiple axes simultaneously:\n",
    "</div>"
   ]
  },
  {
   "cell_type": "code",
   "execution_count": 89,
   "metadata": {},
   "outputs": [],
   "source": [
    "# Start with a 3D array\n",
    "arr14 = np.arange(6000).reshape(40, 50, 3)\n",
    "\n",
    "# This array has shape (40, 50, 3). Let's take a slice that contains:\n",
    "#  * all rows (along axis 0)\n",
    "#  * columns 10-19 (along axis 1)\n",
    "#  * only the second channel (along axis 2)\n",
    "arr15 = arr14[:, 10:20, 1]"
   ]
  },
  {
   "cell_type": "markdown",
   "metadata": {},
   "source": [
    "<div style=\"border-left: 3px solid #000; padding: 1px; padding-left: 10px; background: #F0FAFF; \">\n",
    "<p><b>Note:</b> When we <b>slice</b> an axis, the resulting array will have the same axis, but of a different length.\n",
    "When we <b>index</b> an axis, that axis is no longer present in the result. Put another way: <b>indexing</b> results in an array of lower dimensionality; <b>slicing</b> results in an array of the same dimensionality.\n",
    "</div>"
   ]
  },
  {
   "cell_type": "markdown",
   "metadata": {},
   "source": [
    "<div style=\"background: #DFF0D8; border-radius: 3px; padding: 10px;\">\n",
    "<p><b>Exercise 4.7:</b>\n",
    "\n",
    "<p>Try to guess what the shape of <code>arr15</code> will be before running this cell\n",
    "</div>"
   ]
  },
  {
   "cell_type": "code",
   "execution_count": null,
   "metadata": {},
   "outputs": [],
   "source": []
  },
  {
   "cell_type": "markdown",
   "metadata": {},
   "source": [
    "<div style=\"border-left: 3px solid #000; padding: 1px; padding-left: 10px; background: #F0FAFF; \">\n",
    "<h3>Slice assignment</h3>\n",
    "\n",
    "<p>Another major difference between lists and arrays is that, with arrays, we can actually assign new values to a slice of the array:\n",
    "</div>"
   ]
  },
  {
   "cell_type": "code",
   "execution_count": 90,
   "metadata": {},
   "outputs": [
    {
     "name": "stdout",
     "output_type": "stream",
     "text": [
      "[ 0  1  2  3  4  5  6 -1 -1 -1 -1 -1 12 13 14 15 16 17]\n"
     ]
    }
   ],
   "source": [
    "arr16 = np.arange(18)\n",
    "\n",
    "# Assign -1 to a block in the middle of arr16\n",
    "arr16[7:12] = -1\n",
    "print(arr16)"
   ]
  },
  {
   "cell_type": "code",
   "execution_count": 91,
   "metadata": {},
   "outputs": [
    {
     "name": "stdout",
     "output_type": "stream",
     "text": [
      "[  0   1   2   3   4   5   6 107 108 109 110 111  12  13  14  15  16  17]\n"
     ]
    }
   ],
   "source": [
    "# Assign an array to fill up the middle of arr16\n",
    "arr16[7:12] = np.arange(107, 112)\n",
    "print(arr16)"
   ]
  },
  {
   "cell_type": "code",
   "execution_count": 92,
   "metadata": {},
   "outputs": [
    {
     "name": "stdout",
     "output_type": "stream",
     "text": [
      "[   0    1    2    3    4    5    6 -107 -108 -109 -110 -111   12   13\n",
      "   14   15   16   17]\n"
     ]
    }
   ],
   "source": [
    "# We can also do in-place arithmetic on array slices\n",
    "arr16[7:12] *= -1\n",
    "print(arr16)"
   ]
  },
  {
   "cell_type": "markdown",
   "metadata": {},
   "source": [
    "<div style=\"border-left: 3px solid #000; padding: 1px; padding-left: 10px; background: #F0FAFF; \">\n",
    "<h3><b>Boolean operations</b></h3>\n",
    "\n",
    "<p>In addition to the arithmetic operators available with numpy arrays (+ - \\<b> / \\*\\</b>), most boolean (true/false) and comparison operators may be used as well. As before, these operators are applied elementwise, returning an array of boolean values:\n",
    "</div>"
   ]
  },
  {
   "cell_type": "code",
   "execution_count": 95,
   "metadata": {},
   "outputs": [
    {
     "name": "stdout",
     "output_type": "stream",
     "text": [
      "[False False False False False False  True  True  True  True]\n"
     ]
    }
   ],
   "source": [
    "arr17 = np.arange(10)\n",
    "\n",
    "# generate a boolean array that contains True wherever arr17 is greater than 5\n",
    "print(arr17 > 5)"
   ]
  },
  {
   "cell_type": "code",
   "execution_count": 96,
   "metadata": {
    "scrolled": true
   },
   "outputs": [
    {
     "name": "stdout",
     "output_type": "stream",
     "text": [
      "[ True  True  True False False False False False  True  True]\n"
     ]
    }
   ],
   "source": [
    "# Combine two boolean arrays using an elementwise OR operator:\n",
    "print( (arr17 < 3) | (arr17 > 7) )"
   ]
  },
  {
   "cell_type": "markdown",
   "metadata": {},
   "source": [
    "<div style=\"border-left: 3px solid #000; padding: 1px; padding-left: 10px; background: #F0FAFF; \">\n",
    "\n",
    "<h2>Masking</h2>\n",
    "\n",
    "<p>NumPy provides slicing and indexing as simple ways to extract or modify a subset of your data. But what if the subset we want is more complex (not rectangular)?\n",
    "\n",
    "<p>The most common way of selecting an arbitrary set from an array is with boolean masking. The idea here is to create a boolean (true/false) array that has the same shape as your data, and contains the value True only in the locations of items you are interested in.\n",
    "</div>"
   ]
  },
  {
   "cell_type": "code",
   "execution_count": 97,
   "metadata": {
    "scrolled": true
   },
   "outputs": [
    {
     "name": "stdout",
     "output_type": "stream",
     "text": [
      "[0. 1. 2. 3. 4. 5. 6. 7. 8. 9.]\n",
      "[ True  True False False False False False  True  True  True]\n"
     ]
    }
   ],
   "source": [
    "# let's start with a simple array\n",
    "arr18 = np.arange(10, dtype='float')\n",
    "\n",
    "# make a mask that selects all locations where arr18 is > 6 or < 2\n",
    "mask = (arr18 > 6) | (arr18 < 2)\n",
    "\n",
    "print(arr18)\n",
    "print(mask)"
   ]
  },
  {
   "cell_type": "code",
   "execution_count": 98,
   "metadata": {
    "scrolled": true
   },
   "outputs": [
    {
     "name": "stdout",
     "output_type": "stream",
     "text": [
      "[0. 1. 7. 8. 9.]\n"
     ]
    }
   ],
   "source": [
    "# Now the fun part: let's see only the selected values\n",
    "print(arr18[mask])"
   ]
  },
  {
   "cell_type": "code",
   "execution_count": null,
   "metadata": {},
   "outputs": [],
   "source": [
    "# We can also selectively modify these values in the original array\n",
    "arr18[mask] = np.nan\n",
    "print(arr18)"
   ]
  },
  {
   "cell_type": "code",
   "execution_count": null,
   "metadata": {
    "scrolled": true
   },
   "outputs": [],
   "source": [
    "# NaN (not-a-number) values appear in many kinds of data.\n",
    "# One common use for boolean masking is to remove NaN values from your data before\n",
    "# analyzing it:\n",
    "mask = np.isfinite(arr18)\n",
    "print(arr18[mask])\n",
    "print(arr18[mask].mean())"
   ]
  },
  {
   "cell_type": "markdown",
   "metadata": {},
   "source": [
    "<div style=\"background: #DFF0D8; border-radius: 3px; padding: 10px;\">\n",
    "<p><b>Exercise 4.8:</b>\n",
    "\n",
    "<p>In the cell below, we generate a ratio of two arrays. Use <code>array.mean()</code> to compute the average of the ratio where <code>input1</code> is less than 100.\n",
    "\n",
    "<p>Hint: you can use the <code>&</code> and <code>|</code> operators to combine masks together.\n",
    "</div>"
   ]
  },
  {
   "cell_type": "code",
   "execution_count": null,
   "metadata": {},
   "outputs": [],
   "source": [
    "input1 = np.array([13., 66., 54., 44., 21., 454., 12., 17.])\n",
    "input2 = np.array([23., 48.,  0., 21.,  2.,  92., 19., 30.])\n",
    "ratio = input1 / input2\n",
    "\n",
    "print(ratio)\n"
   ]
  },
  {
   "cell_type": "markdown",
   "metadata": {},
   "source": [
    "<div style=\"border-left: 3px solid #000; padding: 1px; padding-left: 10px; background: #F0FAFF; \">\n",
    "    <h3>Documentation</h3>\n",
    "\n",
    "<a href=\"https://docs.scipy.org/doc/numpy/user/basics.indexing.html#boolean-or-mask-index-arrays\">Boolean or \"mask\" index arrays</a>\n",
    "</div>"
   ]
  },
  {
   "cell_type": "markdown",
   "metadata": {},
   "source": [
    "<div style=\"border-left: 3px solid #000; padding: 1px; padding-left: 10px; background: #F0FAFF; \">\n",
    "<h2>Array reduction</h2>\n",
    "\n",
    "<p>NumPy has many functions for performing mathematical operations on arrays. Earlier, we used <b>exp()</b> and <b>sin()</b> to create new arrays by performing these operations elementwise; that is, the output arrays had the same shape as their input arrays. \n",
    "\n",
    "<p>Another group of mathematical functions takes an array as input and returns either a scalar or an array with one fewer dimension than the input. This process is called <b>reduction</b>.\n",
    "</div>"
   ]
  },
  {
   "cell_type": "markdown",
   "metadata": {},
   "source": [
    "<div style=\"border-left: 3px solid #000; padding: 1px; padding-left: 10px; background: #F0FAFF; \">\n",
    "    <h3>Reduction methods: <b>min()</b>, <b>max()</b>, <b>mean()</b>, and <b>std()</b></h3>\n",
    "\n",
    "<p>The most common reductions are available as array methods \n",
    "    (we access them by writing <b>data.method()</b> as opposed to <b>np.function(data)</b>)\n",
    "</div>"
   ]
  },
  {
   "cell_type": "code",
   "execution_count": 99,
   "metadata": {},
   "outputs": [
    {
     "name": "stdout",
     "output_type": "stream",
     "text": [
      "(673, 11)\n"
     ]
    }
   ],
   "source": [
    "# For this example, we will read a CSV file containing electrode recordings from\n",
    "# a patch clamp experiment.\n",
    "import os\n",
    "ephys_data = np.loadtxt(os.path.join(\"support_files\", \"datasets\", \"sweeps.csv\"), delimiter=\",\", skiprows=1)\n",
    "print(ephys_data.shape)"
   ]
  },
  {
   "cell_type": "markdown",
   "metadata": {},
   "source": [
    "<div style=\"border-left: 3px solid #000; padding: 1px; padding-left: 10px; background: #F0FAFF; \">\n",
    "The <b>data</b> array contains 11 columns. The first column contains time values, \n",
    "and the rest contain electrode data recorded from 10 consecutive trials.\n",
    "</div>"
   ]
  },
  {
   "cell_type": "code",
   "execution_count": null,
   "metadata": {},
   "outputs": [],
   "source": [
    "# Separate time values from the rest of the data\n",
    "tvals = ephys_data[:, 0]\n",
    "ephys_data = ephys_data[:, 1:]\n",
    "\n",
    "# Plot all sweeps overlaid\n",
    "plot(tvals, ephys_data);"
   ]
  },
  {
   "cell_type": "code",
   "execution_count": null,
   "metadata": {},
   "outputs": [],
   "source": [
    "# Print some statistics on the entire dataset \n",
    "print(\"min:\", ephys_data.min(), \"max:\", ephys_data.max())\n",
    "print(\"mean:\", ephys_data.mean(), \"stdev:\", ephys_data.std())"
   ]
  },
  {
   "cell_type": "markdown",
   "metadata": {},
   "source": [
    "<div style=\"border-left: 3px solid #000; padding: 1px; padding-left: 10px; background: #F0FAFF; \">\n",
    "<p>If the array is multi-dimensional, we may optionally specify an <b>axis</b> over which the reduction should be applied.\n",
    "</div>"
   ]
  },
  {
   "cell_type": "code",
   "execution_count": null,
   "metadata": {},
   "outputs": [],
   "source": [
    "# Compute the mean value from each recording\n",
    "# (average all values along axis 0)\n",
    "print(\"Mean of each recording:\", ephys_data.mean(axis=0))\n",
    "\n",
    "# For each time point, compute (and plot) the average values across all recordings\n",
    "# (mean of all values along axis 1)\n",
    "print(\"\\nAverage values across all 10 recordings:\")\n",
    "plot(tvals, ephys_data.mean(axis=1));"
   ]
  },
  {
   "cell_type": "markdown",
   "metadata": {},
   "source": [
    "<div style=\"border-left: 3px solid #000; padding: 1px; padding-left: 10px; background: #F0FAFF; \">\n",
    "<h3>Reduction functions: <b>median()</b>, <b>sum()</b>, <b>argmin()</b>, and <b>argmax()</b></h3>\n",
    "</div>"
   ]
  },
  {
   "cell_type": "code",
   "execution_count": null,
   "metadata": {
    "scrolled": true
   },
   "outputs": [],
   "source": [
    "# Only the most common reductions are available as array methods.\n",
    "# Many more are regular functions defined in the numpy package\n",
    "# (use np.function_name() to access them)\n",
    "print(\"Median value of all samples up to 10ms:\", np.median(ephys_data[:25]))\n",
    "print(\"Sum (area under curve) for each recording:\", np.sum(ephys_data, axis=0))"
   ]
  },
  {
   "cell_type": "code",
   "execution_count": null,
   "metadata": {},
   "outputs": [],
   "source": [
    "# Another useful set of functions gives the _index_ within\n",
    "# an array where certain features occur:\n",
    "print(\"Minimum (peak) value of each recording occurs at indices\", np.argmin(ephys_data, axis=0))\n",
    "print(\"Minimum (peak) value of average recording occurs at t =\", 0.4e-3 * np.argmin(ephys_data.mean(axis=1)))"
   ]
  },
  {
   "cell_type": "code",
   "execution_count": null,
   "metadata": {},
   "outputs": [],
   "source": [
    "# Save your hard work!\n",
    "np.save(\"ephys_data.npy\", ephys_data)\n",
    "\n",
    "# You could restore this array later on using np.load()\n",
    "reloaded_data = np.load(\"ephys_data.npy\")\n",
    "if (reloaded_data == ephys_data).all():\n",
    "    print(\"Data was saved and verified!\")"
   ]
  },
  {
   "cell_type": "markdown",
   "metadata": {},
   "source": [
    "<div style=\"border-left: 3px solid #000; padding: 1px; padding-left: 8px; background: #F0FAFF; \">\n",
    "\n",
    "<h2>MATLAB gotchas</h2>\n",
    "\n",
    "<p>Transitioning from MATLAB to python/numpy can be fun, but tricky. Here is a list of things to keep in mind:\n",
    "<br>\n",
    "<ul>\n",
    "<LI> Matlab indices start at \"1\"; python/numpy start at \"0\"\n",
    "<LI> <code>For</code> loops, like MATLAB, are very slow in python, you should vectorize when possible.\n",
    "<LI> In python, matrix multiplication is done with \".dot\", not \"*\"\n",
    "</ul>\n",
    "    \n",
    "<br>\n",
    "<p> Check out <a href=\"http://mathesaurus.sourceforge.net/matlab-numpy.html\">Numpy for MATLAB Users</a> for code examples help ease the transition\n",
    "\n",
    "</div>"
   ]
  },
  {
   "cell_type": "markdown",
   "metadata": {},
   "source": [
    "<div style=\"background: #DFF0D8; border-radius: 3px; padding: 10px;\">\n",
    "<left><h1>Exercises</h1></left>\n",
    "\n",
    "</div>"
   ]
  },
  {
   "cell_type": "markdown",
   "metadata": {},
   "source": [
    "<div style=\"background: #DFF0D8; border-radius: 3px; padding: 10px;\">\n",
    "<p><b>Exercise 4.9:</b>\n",
    "\n",
    "<p>Create a 1-d numpy array of the first 10,000,000 integers, and call it x. Compute x+x^2+x^3 two ways 1) By using \"vectorized computations\" on a single line, and once by using a for loop.  Which takes longer? \n",
    "\n",
    "</div>"
   ]
  },
  {
   "cell_type": "code",
   "execution_count": null,
   "metadata": {
    "scrolled": true
   },
   "outputs": [],
   "source": []
  },
  {
   "cell_type": "code",
   "execution_count": null,
   "metadata": {},
   "outputs": [],
   "source": []
  },
  {
   "cell_type": "markdown",
   "metadata": {},
   "source": [
    "<div style=\"background: #DFF0D8; border-radius: 3px; padding: 10px;\">\n",
    "<p><b>Exercise 4.10:</b>\n",
    "\n",
    "<p>Create a 1-d numpy array (call it <code>ts</code> for timestamps), with increasing integers from 3 to 300 (including 3 but not 300) with increment of 3, and print the array\n",
    "\n",
    "</div>"
   ]
  },
  {
   "cell_type": "code",
   "execution_count": null,
   "metadata": {},
   "outputs": [],
   "source": []
  },
  {
   "cell_type": "markdown",
   "metadata": {},
   "source": [
    "<div style=\"background: #DFF0D8; border-radius: 3px; padding: 10px;\">\n",
    "<p><b>Exercise 4.11:</b>\n",
    "\n",
    "<p>change the dtype of <code>ts</code> into 32-bit floating point and print <code>ts</code>\n",
    "\n",
    "</div>"
   ]
  },
  {
   "cell_type": "code",
   "execution_count": null,
   "metadata": {},
   "outputs": [],
   "source": []
  },
  {
   "cell_type": "markdown",
   "metadata": {},
   "source": [
    "<div style=\"background: #DFF0D8; border-radius: 3px; padding: 10px;\">\n",
    "<p><b>Exercise 4.12:</b>\n",
    "\n",
    "<p>add 0.5 to every element in ts which is larger than 200 and print ts\n",
    "\n",
    "</div>"
   ]
  },
  {
   "cell_type": "code",
   "execution_count": null,
   "metadata": {},
   "outputs": [],
   "source": []
  },
  {
   "cell_type": "markdown",
   "metadata": {},
   "source": [
    "<div style=\"background: #DFF0D8; border-radius: 3px; padding: 10px;\">\n",
    "<p><b>Exercise 4.13:</b>\n",
    "\n",
    "<p>calculate the mean difference between adjacent elements and print it\n",
    "<p><a href=\"http://docs.scipy.org/doc/numpy/reference/generated/numpy.diff.html\">hint</a>\n",
    "\n",
    "</div>"
   ]
  },
  {
   "cell_type": "code",
   "execution_count": null,
   "metadata": {},
   "outputs": [],
   "source": []
  },
  {
   "cell_type": "markdown",
   "metadata": {},
   "source": [
    "<div style=\"background: #DFF0D8; border-radius: 3px; padding: 10px;\">\n",
    "<p><b>Exercise 4.14:</b>\n",
    "\n",
    "<p>find the index of the element closest to the number 212.3, and print that index and print the element\n",
    "\n",
    "</div>"
   ]
  },
  {
   "cell_type": "code",
   "execution_count": null,
   "metadata": {},
   "outputs": [],
   "source": []
  },
  {
   "cell_type": "markdown",
   "metadata": {},
   "source": [
    "<h1>Advanced topics in NumPy</h1>"
   ]
  },
  {
   "cell_type": "markdown",
   "metadata": {},
   "source": [
    "<div style=\"border-left: 3px solid #000; padding: 1px; padding-left: 10px; background: #F0FAFF; \">\n",
    "<h3><b>argwhere()</b></h3>\n",
    "\n",
    "<p>Whereas argmin() and argmax() return only a single index (or reduce input.ndim by 1), \n",
    "argwhere() returns an <b>array</b> of indices where its input is True. This provides a more\n",
    "powerful tool for locating features within our data.\n",
    "</div>"
   ]
  },
  {
   "cell_type": "code",
   "execution_count": null,
   "metadata": {},
   "outputs": [],
   "source": [
    "arr17 = np.array([\n",
    "  [True, False, False, True, False],\n",
    "  [False, False, True, False, False],\n",
    "])\n",
    "print(arr17)\n",
    "print(np.argwhere(arr17))"
   ]
  },
  {
   "cell_type": "markdown",
   "metadata": {},
   "source": [
    "<div style=\"border-left: 3px solid #000; padding: 1px; padding-left: 10px; background: #F0FAFF; \">\n",
    "<p>argwhere() is most useful when combined with the boolean / comparison operators we saw earlier\n",
    "</div>"
   ]
  },
  {
   "cell_type": "code",
   "execution_count": null,
   "metadata": {
    "scrolled": true
   },
   "outputs": [],
   "source": [
    "# Find indices where arange(10) is greater than 7\n",
    "np.argwhere(np.arange(10) > 7)"
   ]
  },
  {
   "cell_type": "markdown",
   "metadata": {},
   "source": [
    "<div style=\"border-left: 3px solid #000; padding: 1px; padding-left: 10px; background: #F0FAFF; \">\n",
    "    <h3>Documentation</h3>\n",
    "\n",
    "<a href=\"https://docs.scipy.org/doc/numpy/reference/routines.sort.html\">Searching, sorting, and counting</a>\n",
    "</div>"
   ]
  },
  {
   "cell_type": "markdown",
   "metadata": {},
   "source": [
    "<div style=\"background: #DFF0D8; border-radius: 3px; padding: 10px;\">\n",
    "<p><b>Exercise 4.15:</b>\n",
    "\n",
    "<p>Load the image included with this notebook and use <code>argwhere()</code> to determine the cell body's center of mass.\n",
    "\n",
    "<p>Hint: The pixels in the soma all have a value < 50\n",
    "\n",
    "<p>Suggested strategy:\n",
    "<ol>\n",
    "<li>Make a boolean array that is True wherever the image value is < 50\n",
    "<li>Use argwhere to get the positions of all True values in the boolean array\n",
    "<li>Average pixel locations to get the center of mass\n",
    "</ol>\n",
    "</div>"
   ]
  },
  {
   "cell_type": "code",
   "execution_count": null,
   "metadata": {
    "scrolled": true
   },
   "outputs": [],
   "source": [
    "from PIL import Image\n",
    "import os\n",
    "img = Image.open(os.path.join(\"..\", \"support_files\", \"images\", \"neuron.jpg\"))\n",
    "\n",
    "# convert the image to an array and discard the blue/green channels\n",
    "# (the image is greyscale anyway, so we don't need color)\n",
    "img_data = np.array(img)[:, :, 0]\n",
    "\n",
    "imshow(img_data, cmap='gray');"
   ]
  },
  {
   "cell_type": "code",
   "execution_count": null,
   "metadata": {},
   "outputs": [],
   "source": []
  },
  {
   "cell_type": "markdown",
   "metadata": {},
   "source": [
    "<div style=\"background: #DFF0D8; border-radius: 3px; padding: 10px;\">\n",
    "<p><b>Exercise 4.16:</b>\n",
    "\n",
    "<p>The code below creates a data set similar to a calcium \n",
    "imaging experiment. The array is 3D (frame, x, y) and\n",
    "contains one small region (a \"cell\") where the brightness of\n",
    "the image fluctuates over time. \n",
    "\n",
    "<p>The purpose of this exercise is to generate a plot of\n",
    "the signal hidden in this region.\n",
    "\n",
    "<p>Suggested approach:\n",
    "<ol>\n",
    "<li>Use data.std to measure the standard deviation of each pixel over time\n",
    "<li>Display the stdev image with imshow to visually determine the location of the cell\n",
    "<li>Slice out the region of the image around the cell\n",
    "<li>Take the average over each frame of the sliced data and plot it \n",
    "</ol>\n",
    "</div>"
   ]
  },
  {
   "cell_type": "code",
   "execution_count": null,
   "metadata": {
    "scrolled": true
   },
   "outputs": [],
   "source": [
    "# Create one frame of static, low-frequency noise\n",
    "from scipy.ndimage import gaussian_filter\n",
    "noise = np.random.normal(size=(200, 200), loc=128, scale=40)\n",
    "static = gaussian_filter(noise, 15) + 0.3 * gaussian_filter(noise, 5)\n",
    "\n",
    "# Create full 3D array with static and time-varying noise\n",
    "n_frames = 200\n",
    "video_data = np.random.normal(size=(n_frames, 200, 200)) + static.reshape(1, 200, 200)\n",
    "\n",
    "# Create random calcium transient signal\n",
    "np.random.seed(0)  # this is added to keep the problem stable in the answer key.\n",
    "sig = np.zeros(n_frames)\n",
    "spike_times = np.random.randint(10, n_frames-10, size=6)\n",
    "dt = 0.1  # let's say frames are collected at 10 Hz\n",
    "tau = 0.5  # and calcium signals have a decay time constant of 0.5 sec\n",
    "for spike in spike_times:\n",
    "    sig[spike:] += 1.5 * np.exp(-np.arange(n_frames-spike)*dt / tau)\n",
    "\n",
    "# Add calcium signal to a randomly-chosen region of the image\n",
    "i,j = np.random.randint(10, video_data.shape[0]-10, size=2)\n",
    "video_data[:, i:i+10, j:j+10] += sig.reshape(sig.shape[0], 1, 1)\n",
    "\n",
    "# Show the first frame.\n",
    "print(\"This data is noisy! Where is the cell?\")\n",
    "imshow(video_data[0], cmap='gray', interpolation='none');"
   ]
  },
  {
   "cell_type": "code",
   "execution_count": null,
   "metadata": {
    "scrolled": true
   },
   "outputs": [],
   "source": [
    "# Write your solution here (don't re-run the cell above lest you get a different randomly-generated dataset)\n"
   ]
  },
  {
   "cell_type": "code",
   "execution_count": null,
   "metadata": {},
   "outputs": [],
   "source": [
    "# Save your hard work!\n",
    "np.save(\"my_data.npy\", my_data)\n",
    "\n",
    "# You could restore this array later on using np.load()\n",
    "reloaded_data = np.load(\"my_data.npy\")\n",
    "if all(reloaded_data == my_data):\n",
    "    print(\"Data was saved and verified!\")"
   ]
  },
  {
   "cell_type": "markdown",
   "metadata": {},
   "source": [
    "<div style=\"border-left: 3px solid #000; padding: 1px; padding-left: 10px; background: #F0FAFF; \">\n",
    "<p><b>Note:</b> np.save() is a quick-and-dirty solution for storing data, such as when\n",
    "caching intermediate results in an extended analysis.\n",
    "Because it uses a nonstandard format, it is not a great choice for archival\n",
    "storage or data sharing. In those cases, consider something like CSV (np.savetxt)\n",
    "or HDF5 (via the 3rd-party h5py package).\n",
    "</div>"
   ]
  },
  {
   "cell_type": "markdown",
   "metadata": {},
   "source": [
    "<div style=\"border-left: 3px solid #000; padding: 1px; padding-left: 10px; background: \n",
    "#F0FAFF; \">\n",
    "<h3>Documentation</h3>\n",
    "\n",
    "<a href=\"https://docs.scipy.org/doc/numpy/reference/routines.io.html\">Input and Output</a>\n",
    "         \n",
    "<a href=\"http://docs.h5py.org/en/latest/quick.html\">h5py</a>\n",
    "</div>"
   ]
  },
  {
   "cell_type": "markdown",
   "metadata": {},
   "source": [
    "<div style=\"border-left: 3px solid #000; padding: 1px; padding-left: 10px; background: #F0FAFF; \">\n",
    "<h2>Fancy indexing: using an array of indices to select values from another array</h2>\n",
    "\n",
    "<p>Another powerful way to select items from an array is by specifying the exact set of indices you would like to extract. This is called \"fancy indexing\" (It's also called \"array indexing with index arrays\", but I prefer \"fancy\"):</div>"
   ]
  },
  {
   "cell_type": "code",
   "execution_count": null,
   "metadata": {},
   "outputs": [],
   "source": [
    "# Again, start with a simple array:\n",
    "arr19 = np.arange(100, 110)\n",
    "\n",
    "# let's say I have an array containing the indices that I want to extract from arr19:\n",
    "indices = np.array([1,5,2,3,2,6,6,0])\n",
    "\n",
    "# Extracting values from arr19 gives:\n",
    "print(arr19[indices])"
   ]
  },
  {
   "cell_type": "markdown",
   "metadata": {},
   "source": [
    "<div style=\"border-left: 3px solid #000; padding: 1px; padding-left: 10px; background: #F0FAFF; \">\n",
    "<p>Notice that with fancy indexing, you can select values from the input array multiple times and in any order.\n",
    "\n",
    "<p>This feature is used, for example, to implement lookup tables.\n",
    "</div>"
   ]
  },
  {
   "cell_type": "code",
   "execution_count": null,
   "metadata": {
    "scrolled": true
   },
   "outputs": [],
   "source": [
    "# Load the neuron image again and display it with color derived from a lookup table\n",
    "import os\n",
    "img = Image.open(os.path.join(\"..\", \"support_files\", \"images\", \"neuron.jpg\"))\n",
    "img_data = np.array(img)[:, :, 0]\n",
    "\n",
    "# Construct a lookup table of RGB color values that transition from \n",
    "#   white -> yellow -> red -> black\n",
    "lut = np.zeros((256, 3), dtype='ubyte')\n",
    "ind = np.arange(255, -1, -1)\n",
    "lut[:,0] = np.clip(ind*3, 0, 255)\n",
    "lut[:,1] = np.clip(ind*3-256, 0, 255)\n",
    "lut[:,2] = np.clip(ind*3-512, 0, 255)\n",
    "\n",
    "# Replace everything < 50 (just the soma in this case) with blue\n",
    "lut[:50] = (0, 0, 255)\n",
    "\n",
    "# Create an RGB-colored image by using each value in <b>img_data</b> as an index\n",
    "# to look up the corresponding color in <b>lut</b>\n",
    "color_data = lut[img_data]\n",
    "\n",
    "imshow(color_data);"
   ]
  },
  {
   "cell_type": "markdown",
   "metadata": {},
   "source": [
    "<div style=\"background: #DFF0D8; border-radius: 3px; padding: 10px;\">\n",
    "<p><b>Exercise 4.17:</b>\n",
    "\n",
    "Calcluate the average value of the pixels both inside and outside the cell body. \n",
    "</div>"
   ]
  },
  {
   "cell_type": "code",
   "execution_count": null,
   "metadata": {
    "scrolled": true
   },
   "outputs": [],
   "source": []
  },
  {
   "cell_type": "markdown",
   "metadata": {},
   "source": [
    "<div style=\"border-left: 3px solid #000; padding: 1px; padding-left: 10px; background: #F0FAFF; \">\n",
    "    <h3>Documentation</h3>\n",
    "    <a href=\"https://docs.scipy.org/doc/numpy/user/basics.indexing.html#index-arrays\">Index arrays</a>\n",
    "</div>"
   ]
  },
  {
   "cell_type": "markdown",
   "metadata": {},
   "source": [
    "<div style=\"border-left: 3px solid #000; padding: 1px; padding-left: 10px; background: #F0FAFF; \">\n",
    "\n",
    "<h2>Array concatenation / stacking</h2>\n",
    "\n",
    "<p>Let's say we have two (or more) arrays that we would like to combine together into a single array. Numpy provides several functions  that accomplish this task in different ways, but let's just focus on the most general ones: <b>concatenate()</b> and <b>stack()</b>. This function takes a list of arrays and stacks them together along any axis. \n",
    "\n",
    "<p>The rules of concatenation are:\n",
    "\n",
    "<ul>\n",
    "<li>All arrays must have the same number of dimensions (you can create new dimensions of length-1 if needed)\n",
    "<li>All arrays must have the same shape <b>except</b> along the concatenation axis\n",
    "</ul>\n",
    "</div>"
   ]
  },
  {
   "cell_type": "code",
   "execution_count": null,
   "metadata": {},
   "outputs": [],
   "source": [
    "# Start with two arrays\n",
    "arr20 = np.arange(5)\n",
    "arr21 = np.arange(100, 105)\n",
    "\n",
    "# concatenate these along axis 0\n",
    "concat = np.concatenate([arr20, arr21])\n",
    "\n",
    "print(concat)"
   ]
  },
  {
   "cell_type": "code",
   "execution_count": null,
   "metadata": {
    "scrolled": true
   },
   "outputs": [],
   "source": [
    "# now stack the arrays across a new axis\n",
    "stacked = np.stack([arr20, arr21], axis=0)\n",
    "print(stacked)"
   ]
  },
  {
   "cell_type": "code",
   "execution_count": null,
   "metadata": {},
   "outputs": [],
   "source": [
    "# Can I add another row to stacked ?\n",
    "arr22 = np.arange(200, 205)\n",
    "\n",
    "# Yes, but I need to make sure that my arrays have the same number of dimensions!\n",
    "# stacked is 2D, whereas arr22 is only 1D. I need to reshape it to become 2D:\n",
    "arr22_2d = arr22.reshape(1, 5)\n",
    "print(np.concatenate([stacked, arr22_2d], axis=0))"
   ]
  },
  {
   "cell_type": "markdown",
   "metadata": {},
   "source": [
    "<div style=\"border-left: 3px solid #000; padding: 1px; padding-left: 10px; background: #F0FAFF; \">\n",
    "    <h3>Documentation</h3>\n",
    "    \n",
    "<a href=\"https://docs.scipy.org/doc/numpy/reference/routines.array-manipulation.html\">Array manipulation routines</a>\n",
    "</div>"
   ]
  },
  {
   "cell_type": "markdown",
   "metadata": {},
   "source": [
    "<div style=\"border-left: 3px solid #000; padding: 1px; padding-left: 10px; background: #F0FAFF; \">\n",
    "\n",
    "<h2>Broadcasting</h2>\n",
    "\n",
    "<p>We have seen many cases where we perform an operation elementwise between two arrays. For example:\n",
    "\n",
    "<pre>\n",
    "    # add two arrays together\n",
    "    arr1 + arr2\n",
    "    \n",
    "    # compare two arrays\n",
    "    arr1 > arr2\n",
    "    \n",
    "    # assign from one array to another\n",
    "    arr1[:,0] = arr2\n",
    "</pre>\n",
    "\n",
    "<p>In each of these cases, the two arrays being operated on had the same shape--each element in one array had a matching element in the other array. \n",
    "\n",
    "<p>Broadcasting is a very powerful feature of NumPy that lets us perform operations between two arrays of different shape.\n",
    "</div>"
   ]
  },
  {
   "cell_type": "code",
   "execution_count": null,
   "metadata": {
    "scrolled": true
   },
   "outputs": [],
   "source": [
    "# Simple example: Let's take the same electrode recording data that we\n",
    "# loaded earlier and subtract off the baseline value from each recording\n",
    "import os\n",
    "ephys_data = np.loadtxt(os.path.join(\"..\", \"support_files\", \"datasets\", \"sweeps.csv\"), delimiter=\",\", skiprows=1)\n",
    "tvals = ephys_data[:,0]\n",
    "ephys_data = ephys_data[:, 1:]\n",
    "\n",
    "print(\"Raw data:\")\n",
    "plot(tvals, ephys_data);"
   ]
  },
  {
   "cell_type": "code",
   "execution_count": null,
   "metadata": {},
   "outputs": [],
   "source": [
    "# calculate the median value from the beginning (first 25 samples) of each recording\n",
    "base_vals = np.median(ephys_data[:25], axis=0)\n",
    "\n",
    "# reshape base_vals so that it is clear how the axes of base_vals align with data\n",
    "base_vals = base_vals.reshape(1, 10)\n",
    "\n",
    "# subtract baseline values from data\n",
    "baseline_subtracted = ephys_data - base_vals\n",
    "\n",
    "print(\"Baseline-subtracted data:\")\n",
    "plot(tvals, baseline_subtracted);"
   ]
  },
  {
   "cell_type": "markdown",
   "metadata": {},
   "source": [
    "<div style=\"border-left: 3px solid #000; padding: 1px; padding-left: 10px; background: #F0FAFF; \">\n",
    "    Notice that we had to reshape <b>base_vals</b> to become 2D before it could be subtracted from <b>ephys_data</b>.\n",
    "    When <b>base_vals</b> is broadcast onto <b>ephys_data</b>, its first axis (which has length 1) is effectively stretched\n",
    "to the full length of <b>ephys_data</b>'s first axis (which has length 673). \n",
    "\n",
    "<p>The major rules here are: \n",
    "<ul>\n",
    "<li>The arrays should have the same number of dimensions (this is not required, but it gets confusing if they are different)\n",
    "<li>For any dimension where the array shapes are not equal, one array must have length=1 along that axis.\n",
    "</ul>\n",
    "\n",
    "</div>"
   ]
  },
  {
   "cell_type": "markdown",
   "metadata": {},
   "source": [
    "<div style=\"border-left: 3px solid #000; padding: 1px; padding-left: 10px; background: #F0FAFF; \">\n",
    "    <h3>Documentation</h3>\n",
    "    \n",
    "  <a href=\"https://docs.scipy.org/doc/numpy/user/basics.broadcasting.html\">Broadcasting</a>\n",
    "    \n",
    "</div>"
   ]
  },
  {
   "cell_type": "markdown",
   "metadata": {},
   "source": [
    "<div style=\"background: #DFF0D8; border-radius: 3px; padding: 10px;\">\n",
    "<p><b>Exercise 4.18:</b>\n",
    "\n",
    "Given a set of 3D positions X (in a 3x10 array) and a 3x3\n",
    "transformation matrix M, perform a matrix multiplication \n",
    "M · X using broadcasting to generate the set of\n",
    "transformed positions.\n",
    "</div>"
   ]
  },
  {
   "cell_type": "code",
   "execution_count": null,
   "metadata": {},
   "outputs": [],
   "source": [
    "M = np.array([\n",
    "    [0, 1, 0],\n",
    "    [0, 0, 1],\n",
    "    [1, 0, 0],\n",
    "])\n",
    "X = np.array([\n",
    "    [1, 4, 0, 8, 9, 1, 4, 0, 8, 9],\n",
    "    [2, 5, 1, 7, 8, 2, 5, 1, 7, 8],\n",
    "    [3, 6, 2, 6, 7, 3, 6, 2, 6, 7]\n",
    "])"
   ]
  },
  {
   "cell_type": "code",
   "execution_count": null,
   "metadata": {
    "scrolled": true
   },
   "outputs": [],
   "source": []
  },
  {
   "cell_type": "code",
   "execution_count": null,
   "metadata": {},
   "outputs": [],
   "source": [
    "# Test your answer against numpy's built-in matrix multiplication:\n",
    "if np.all(X1 == np.dot(M, X)):\n",
    "    print(\"We feel super smart!\")"
   ]
  }
 ],
 "metadata": {
  "kernelspec": {
   "display_name": "Python 3 (ipykernel)",
   "language": "python",
   "name": "python3"
  },
  "language_info": {
   "codemirror_mode": {
    "name": "ipython",
    "version": 3
   },
   "file_extension": ".py",
   "mimetype": "text/x-python",
   "name": "python",
   "nbconvert_exporter": "python",
   "pygments_lexer": "ipython3",
   "version": "3.8.10"
  }
 },
 "nbformat": 4,
 "nbformat_minor": 4
}
